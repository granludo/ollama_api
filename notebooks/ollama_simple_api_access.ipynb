{
 "cells": [
  {
   "cell_type": "markdown",
   "id": "58eae6ce-f511-440f-b76b-30b18fd2c6ec",
   "metadata": {},
   "source": [
    "# This notebook is to make some processing of the audios transcribed\n",
    "\n",
    "The transcriptions of lectures and conferences contain a lot of nonsensical speech.\n",
    "- Repetitions of words and fragments of phrases\n",
    "- Incomplete sentences, interactions with the public.\n",
    "\n",
    "All of these speech forms do not add meaning to the chunks and their embeddings.\n",
    "\n",
    "***The goal of this notebook is to process it a bit with GPT*** \n",
    "\n",
    "The input will be \n",
    "\n",
    ".json files with chunks "
   ]
  },
  {
   "cell_type": "markdown",
   "id": "4ac58578-abd4-4b35-ba34-310f39d6631c",
   "metadata": {},
   "source": [
    "# We will use ollama\n",
    "\n",
    "See (https://www.postman.com/postman-student-programs/workspace/ollama-api/documentation/21521806-f48dc31a-a9f1-4dad-9082-fd07f5cd2fda)\n",
    "\n",
    "We will have two api endpoints :\n",
    "- /api/generate -> for single prompt generation\n",
    "- /api/chat -> for chat conversations\n",
    "\n",
    "## Important!!! Check the models that DO have Chat \n",
    "\n",
    "- llama2 models offer chat\n",
    "- mistral and mixtral do not!\n"
   ]
  },
  {
   "cell_type": "markdown",
   "id": "9e8e329e-21aa-49c1-b87d-b5786fc99c69",
   "metadata": {},
   "source": [
    "# setup stuff\n"
   ]
  },
  {
   "cell_type": "code",
   "execution_count": 35,
   "id": "c298af80-1d6c-4fad-8a27-7456417fa37a",
   "metadata": {},
   "outputs": [],
   "source": [
    "import requests\n",
    "import json\n",
    "\n",
    "# Define the ollama URL\n",
    "ollama_url = \"http://localhost:11434\"\n",
    "ollama_generate_url = ollama_url+\"/api/generate\"\n",
    "ollama_chat_url = ollama_url+\"/api/chat\"\n",
    "# Choose your prefered model\n",
    "ollama_generate_model = \"mixtral\"\n",
    "ollama_chat_model = \"mixtral\"\n",
    "#ollama_model = \"llama2\"\n",
    "default_temperature = 0.7 # as suggested by Mistral API docs https://docs.mistral.ai/api/"
   ]
  },
  {
   "cell_type": "markdown",
   "id": "4eba634f-eaf0-423e-84c9-8da2450c1300",
   "metadata": {},
   "source": [
    "# Helper functions\n",
    "\n"
   ]
  },
  {
   "cell_type": "code",
   "execution_count": 36,
   "id": "3d8e519c-36c1-47fb-befa-0d7f6eec12c6",
   "metadata": {},
   "outputs": [],
   "source": [
    "# Helper functions  \n",
    "def ollama_chat(messages, temperature=default_temperature):\n",
    "    \n",
    "    data = {\n",
    "        'model': ollama_chat_model,\n",
    "        'messages': messages,   \n",
    "        'temperature': temperature,\n",
    "        'stream': False\n",
    "    }\n",
    "    \n",
    "    json_data=json.dumps(data)\n",
    "    \n",
    "    response = requests.post(ollama_chat_url, data=json_data, headers={\"Content-Type\": \"application/json\"})\n",
    "\n",
    "    if response.status_code == 200:\n",
    "        response_json = response.json()\n",
    "        actual_response = response_json[\"message\"] \n",
    "        return actual_response\n",
    "    else:\n",
    "        return f\"Request failed with status code {response.status_code}\"\n",
    "\n",
    "def ollama_generate(prompt, system=\"you are a helpfull assitant\", temperature=default_temperature):\n",
    "    \n",
    "    data = {\n",
    "        'model': ollama_generate_model,\n",
    "        'prompt': prompt,\n",
    "        'system': system,        \n",
    "        'temperature': temperature,\n",
    "        'stream': False\n",
    "    }\n",
    "    \n",
    "    json_data=json.dumps(data)\n",
    "    actual_response=\"error\"\n",
    "    \n",
    "    response = requests.post(ollama_generate_url, data=json_data, headers={\"Content-Type\": \"application/json\"})\n",
    "    if response.status_code == 200:\n",
    "        response_json = response.json()\n",
    "        actual_response = response_json[\"response\"] \n",
    "        return actual_response\n",
    "    else:\n",
    "        return f\"Request failed with status code {response.status_code}\"\n",
    "\n",
    "    "
   ]
  },
  {
   "cell_type": "markdown",
   "id": "40d63003-9f41-483d-8fd5-4fb3ad41af0e",
   "metadata": {},
   "source": [
    "# Sample usage of ollama_generate"
   ]
  },
  {
   "cell_type": "code",
   "execution_count": 37,
   "id": "18d727d1-24e7-4a65-9e1b-9750c2233ff2",
   "metadata": {},
   "outputs": [
    {
     "name": "stdout",
     "output_type": "stream",
     "text": [
      " Arr matey, ye be askin' a question that philosophers and seafarers alike have pondered for centuries. As a pirate, I'd say the meaning o' life be about findin' treasure, adventure, and camaraderie on the high seas.\n",
      "\n",
      "But in all seriousness, the meaning o' life is different for everyone. Some might say it's to seek knowledge and understanding, while others believe it's to help others and make the world a better place. Ultimately, the meaning o' life be what ye make it, so get out there and create yer own adventures, matey!\n"
     ]
    }
   ],
   "source": [
    "# Sample usage of ollama_generate\n",
    "\n",
    "prompt=\"what is the meaning of life?\"\n",
    "system=\"talk like a pirate\"\n",
    "response=ollama_generate(prompt,system=system)\n",
    "print(response)\n",
    "   "
   ]
  },
  {
   "cell_type": "markdown",
   "id": "8e207391-b42a-4b83-a5de-a4db18e157a1",
   "metadata": {},
   "source": [
    "# Sample usage of ollama_chat"
   ]
  },
  {
   "cell_type": "code",
   "execution_count": 10,
   "id": "e2371e64-a0dc-4482-9958-7a30fb2ad57c",
   "metadata": {},
   "outputs": [
    {
     "name": "stdout",
     "output_type": "stream",
     "text": [
      "{\"model\":\"mixtral\",\"created_at\":\"2024-01-15T16:56:36.450374Z\",\"message\":{\"role\":\"assistant\",\"content\":\" Dude, you're really going deep with that question! Like, you want to know the meaning of life, ya? Well, I reckon it's all about hanging ten on those gnarly waves of experience, feeling the rush of living in the present moment, and being stoked about the good vibes.\\n\\nYou see, brah, life ain't always about scoring the perfect barrel or landing that sick trick. Sometimes it's about wiping out, learning from our mistakes, and getting back up to ride again. It's about cherishing those moments with our bros and brahs, creating unforgettable memories, and sharing some aloha spirit.\\n\\nSo, I'd say the meaning of life is finding your own flow, staying true to yourself, and spreading good vibes all around. Just remember, when in doubt, paddle out! Catch you on the next swell, dude!\"},\"done\":true,\"total_duration\":5683339500,\"load_duration\":854833,\"prompt_eval_duration\":476231000,\"eval_count\":199,\"eval_duration\":5200992000}\n",
      "{'role': 'assistant', 'content': \" Dude, you're really going deep with that question! Like, you want to know the meaning of life, ya? Well, I reckon it's all about hanging ten on those gnarly waves of experience, feeling the rush of living in the present moment, and being stoked about the good vibes.\\n\\nYou see, brah, life ain't always about scoring the perfect barrel or landing that sick trick. Sometimes it's about wiping out, learning from our mistakes, and getting back up to ride again. It's about cherishing those moments with our bros and brahs, creating unforgettable memories, and sharing some aloha spirit.\\n\\nSo, I'd say the meaning of life is finding your own flow, staying true to yourself, and spreading good vibes all around. Just remember, when in doubt, paddle out! Catch you on the next swell, dude!\"}\n"
     ]
    }
   ],
   "source": [
    "# Sample usage of ollama_chat\n",
    "messages= [\n",
    "        {\"role\": \"system\", \"content\": \"talk like a surfer dude.\"},\n",
    "        {\"role\": \"user\", \"content\": \"What is the meaning of life.\"},\n",
    "##        {\"role\": \"assistant\", \"content\": \"possible responses in the context?\"},\n",
    "##        {\"role\": \"user\", \"content\": \"more stuff\"},\n",
    "]\n",
    "#print(json.dumps(messages,indent=4))\n",
    "\n",
    "response=ollama_chat(messages)\n",
    "\n",
    "print(response)\n",
    "#print(type(response))\n",
    "#show_response(response)    "
   ]
  },
  {
   "cell_type": "markdown",
   "id": "9122a00c-e631-494b-b5ec-01f102eacd89",
   "metadata": {},
   "source": [
    "# Loading Srt File\n",
    "\n"
   ]
  },
  {
   "cell_type": "code",
   "execution_count": 4,
   "id": "d891882b-c1aa-4715-8613-8e0d8b190dfa",
   "metadata": {
    "tags": []
   },
   "outputs": [],
   "source": [
    "json_file_url=\"http://192.168.1.44:8001/1_1_Planteando_objetivos_politica_economica.json\"\n",
    "\n"
   ]
  },
  {
   "cell_type": "code",
   "execution_count": 24,
   "id": "584033ef-b842-426e-be15-f23b93b6d826",
   "metadata": {},
   "outputs": [
    {
     "name": "stdout",
     "output_type": "stream",
     "text": [
      "<class 'list'>\n"
     ]
    }
   ],
   "source": [
    "import requests\n",
    "import json\n",
    "\n",
    "\n",
    "\n",
    "try:\n",
    "    response = requests.get(json_file_url)\n",
    "    response.raise_for_status()  # Check for any HTTP errors\n",
    "\n",
    "    json_data = response.text  # Get the JSON content from the response\n",
    "\n",
    "    # Parse the JSON data into a Python dictionary\n",
    "    data_dict = json.loads(json_data)\n",
    "\n",
    "    # Now you can work with the data_dict as needed\n",
    "    print(type(data_dict))\n",
    "   # print(data_dict)\n",
    "\n",
    "except requests.exceptions.RequestException as e:\n",
    "    print(f\"An error occurred: {e}\")\n",
    "except json.JSONDecodeError as e:\n",
    "    print(f\"Error decoding JSON: {e}\")"
   ]
  },
  {
   "cell_type": "code",
   "execution_count": 25,
   "id": "0838bb19-f58a-41ab-8ff6-9ac9550978eb",
   "metadata": {
    "tags": []
   },
   "outputs": [
    {
     "name": "stdout",
     "output_type": "stream",
     "text": [
      "1\n",
      "00:00:00,000 --> 00:00:59,820\n",
      "¿Por qué la inflación y el pleno empleo están en conflicto? ¿Por qué? ¿Qué pensáis? ¿Por qué intentar controlar la inflación nos perjudica la plena ocupación? ¿Sería esto? Y al revés, ¿no? ¿Por qué favorecer la plena ocupación nos va a perjudicar la inflación? Esa es tu pregunta, ¿no? Venga, va, un minuto. A ver. Venga, va. ¿Quién nos dice algo? Vale. Arturo, te lo voy a pasar y os lo vais pasando, ¿vale? No os rompáis que te vale una pasta esto. Venga, Arturo. No, no, ya está, ya está. Porque si tenemos plena ocupación significa que, bueno, si estamos favoreciendo la plena ocupación, significa que no hay problema.\n"
     ]
    }
   ],
   "source": [
    "print(data_dict[0])\n"
   ]
  },
  {
   "cell_type": "code",
   "execution_count": null,
   "id": "d2937633-fed3-43dd-ba30-9b6b9757a4d2",
   "metadata": {},
   "outputs": [],
   "source": []
  },
  {
   "cell_type": "code",
   "execution_count": 26,
   "id": "44d350f2-ffa5-4a21-b78e-1a6ac045c9b5",
   "metadata": {
    "tags": []
   },
   "outputs": [],
   "source": [
    "import re\n",
    "\n",
    "def break_str_fragment(input_string):\n",
    "    # Split the input string by newlines and strip leading/trailing whitespace\n",
    "    sections = input_string.strip().split('\\n')\n",
    "\n",
    "    # Error handling for incomplete sections\n",
    "    if len(sections) < 3:\n",
    "        return None  # or raise an error\n",
    "\n",
    "    # Extract the number, ensure it's a valid integer\n",
    "    try:\n",
    "        number = int(sections[0])\n",
    "    except ValueError:\n",
    "        return None  # or raise an error\n",
    "\n",
    "    # Extract timestamps, handle potential regex match issues\n",
    "    timestamps_match = re.findall(r'(\\d+:\\d+:\\d+,\\d+) --> (\\d+:\\d+:\\d+,\\d+)', sections[1])\n",
    "    if not timestamps_match:\n",
    "        return None  # or raise an error\n",
    "\n",
    "    # Extract and concatenate the text lines\n",
    "    text = ' '.join(sections[2:])\n",
    "\n",
    "    # Create a dictionary\n",
    "    tmp_dict = {\n",
    "        \"number\": number,\n",
    "        \"timestamp_start\": timestamps_match[0][0],\n",
    "        \"timestamp_end\": timestamps_match[0][1],\n",
    "        \"text\": text\n",
    "    }\n",
    "\n",
    "    return tmp_dict\n"
   ]
  },
  {
   "cell_type": "code",
   "execution_count": 32,
   "id": "0509e27d-5961-4687-af83-8d18ecec2a91",
   "metadata": {
    "tags": []
   },
   "outputs": [
    {
     "name": "stdout",
     "output_type": "stream",
     "text": [
      "<class 'list'>\n"
     ]
    }
   ],
   "source": [
    "print(type(data_dict))\n"
   ]
  },
  {
   "cell_type": "code",
   "execution_count": 29,
   "id": "1c0a5fce-6145-46cc-8c59-a8d686cd30d4",
   "metadata": {
    "tags": []
   },
   "outputs": [],
   "source": [
    "list_of_unprocessed_chunks = []\n",
    "for fragment in data_dict:  # assuming data_dict is a list of SRT fragments\n",
    "    list_of_unprocessed_chunks.append(break_str_fragment(fragment))"
   ]
  },
  {
   "cell_type": "code",
   "execution_count": 46,
   "id": "b910f65f-d548-4bdb-9004-fe0e8ed0018b",
   "metadata": {
    "tags": []
   },
   "outputs": [
    {
     "name": "stdout",
     "output_type": "stream",
     "text": [
      "{'number': 1, 'timestamp_start': '00:00:00,000', 'timestamp_end': '00:00:59,820', 'text': '¿Por qué la inflación y el pleno empleo están en conflicto? ¿Por qué? ¿Qué pensáis? ¿Por qué intentar controlar la inflación nos perjudica la plena ocupación? ¿Sería esto? Y al revés, ¿no? ¿Por qué favorecer la plena ocupación nos va a perjudicar la inflación? Esa es tu pregunta, ¿no? Venga, va, un minuto. A ver. Venga, va. ¿Quién nos dice algo? Vale. Arturo, te lo voy a pasar y os lo vais pasando, ¿vale? No os rompáis que te vale una pasta esto. Venga, Arturo. No, no, ya está, ya está. Porque si tenemos plena ocupación significa que, bueno, si estamos favoreciendo la plena ocupación, significa que no hay problema.'}\n"
     ]
    }
   ],
   "source": [
    "print(list_of_unprocessed_chunks[0])\n"
   ]
  },
  {
   "cell_type": "raw",
   "id": "d65fee1b-5f6c-4b2f-988d-ea80006f181d",
   "metadata": {
    "tags": []
   },
   "source": [
    "# Now we have a list_of_unprocessed_chunks\n",
    "\"\"\"\n",
    "a dictionay like :\n",
    "\n",
    "{\n",
    "    'number': 1, \n",
    "    'timestamp_start': '00:00:00,000', \n",
    "    'timestamp_end': '00:00:59,820', \n",
    "    'text': '¿Por qué la inflación y el pleno empleo están en conflicto? ¿Por qué? ¿Qué pensáis? ¿Por qué intentar controlar la inflación nos perjudica la plena ocupación? ¿Sería esto? Y al revés, ¿no? ¿Por qué favorecer la plena ocupación nos va a perjudicar la inflación? Esa es tu pregunta, ¿no? Venga, va, un minuto. A ver. Venga, va. ¿Quién nos dice algo? Vale. Arturo, te lo voy a pasar y os lo vais pasando, ¿vale? No os rompáis que te vale una pasta esto. Venga, Arturo. No, no, ya está, ya está. Porque si tenemos plena ocupación significa que, bueno, si estamos favoreciendo la plena ocupación, significa que no hay problema.'}\n",
    "\"\"\"\n"
   ]
  },
  {
   "cell_type": "code",
   "execution_count": 43,
   "id": "d5025559-edac-4776-bb31-f1c0d0a630da",
   "metadata": {
    "tags": []
   },
   "outputs": [
    {
     "name": "stdout",
     "output_type": "stream",
     "text": [
      "\n",
      "Take the following transcription of a lecture in spanish, \n",
      "remove all the repetitions, interactions with students,and other nonsensical speech,\n",
      "and output only a well written version of what is being explained. write in spanish.\n",
      "---Begin text ---\n",
      "¿Por qué la inflación y el pleno empleo están en conflicto? ¿Por qué? ¿Qué pensáis? ¿Por qué intentar controlar la inflación nos perjudica la plena ocupación? ¿Sería esto? Y al revés, ¿no? ¿Por qué favorecer la plena ocupación nos va a perjudicar la inflación? Esa es tu pregunta, ¿no? Venga, va, un minuto. A ver. Venga, va. ¿Quién nos dice algo? Vale. Arturo, te lo voy a pasar y os lo vais pasando, ¿vale? No os rompáis que te vale una pasta esto. Venga, Arturo. No, no, ya está, ya está. Porque si tenemos plena ocupación significa que, bueno, si estamos favoreciendo la plena ocupación, significa que no hay problema.\n",
      "---End text ---\n",
      "\n"
     ]
    }
   ],
   "source": [
    "prompt=\"\"\"\n",
    "Take the following transcription of a lecture in spanish, \n",
    "remove all the repetitions, interactions with students,and other nonsensical speech,\n",
    "and output only a well written version of what is being explained. write in spanish.\n",
    "---Begin text ---\n",
    "{}\n",
    "---End text ---\n",
    "\"\"\".format(list_of_unprocessed_chunks[0]['text'])\n",
    "\n",
    "system=\"\"\"you are a helpfull asistant who helps in creating lecture notes from lecture transcriptions. \n",
    "You output only the reviewed text. You write always in spanish of spain\n",
    "\"\"\"\n",
    "\n",
    "print(prompt_test)"
   ]
  },
  {
   "cell_type": "code",
   "execution_count": 45,
   "id": "d215dd50-ff89-4337-aac3-7d2d5839733f",
   "metadata": {
    "tags": []
   },
   "outputs": [
    {
     "name": "stdout",
     "output_type": "stream",
     "text": [
      " La plena ocupación y la inflación suelen estar en conflicto. Intentar controlar la inflación puede perjudicarnos en términos de plena ocupación, ya que fomentar el pleno empleo implica que no hay problemas en este ámbito.\n",
      "\n",
      "En resumen, la relación entre inflación y pleno empleo es inversa: cuando una sube, la otra tiende a bajar, y viceversa. Esto se debe a que, en un contexto de plena ocupación, la demanda de bienes y servicios supera a la oferta, lo que puede desencadenar un aumento de precios (inflación). Por tanto, es complejo lograr simultáneamente el equilibrio entre ambas metas económicas.\n"
     ]
    }
   ],
   "source": [
    "\n",
    "response=ollama_generate(prompt_test,system=system)\n",
    "print(response)"
   ]
  },
  {
   "cell_type": "code",
   "execution_count": 47,
   "id": "54a3a718-0c90-49d3-9ee7-6701896df39d",
   "metadata": {
    "tags": []
   },
   "outputs": [
    {
     "name": "stdout",
     "output_type": "stream",
     "text": [
      " La plena ocupación y la inflación pueden estar en conflicto. La pregunta es por qué, cuando se promueve el pleno empleo, puede perjudicar el control de la inflación y viceversa. Cuando existe plena ocupación, no hay problemas económicos significativos, lo que sugiere que un mayor nivel de empleo podría influir en el aumento de los precios y, por tanto, en la inflación. Sin embargo, es necesario un análisis más detallado para comprender este posible conflicto entre dos conceptos económicos importantes.\n",
      " La política económica mencionada tiene como objetivo proporcionar empleo a un mayor número de personas, lo que resultaría en una amplia producción de bienes y riquezas. No obstante, debido a la gran oferta de estos bienes y riquezas, su valor tendería a disminuir. Además, con más personas capacitadas para brindar los mismos servicios, habría una mayor cantidad de dinero en circulación, lo que llevaría a que la gente deseara adquirir más bienes. Por lo tanto, con más dinero en circulación y una demanda creciente, existe la posibilidad de que aumente la inflación y, en última instancia, se produzca una tendencia al incremento de los precios.\n",
      " La inflación no es un fenómeno deseable. El control de la inflación entra en conflicto con la plena ocupación. Uno de los asistentes estudiantiles quería hacer una observación relacionada con el hecho de que una baja inflación o incluso deflación están vinculados a una demanda muy baja.\n",
      "\n",
      "(Nota: El diálogo se ha simplificado y se han eliminado las interacciones no esenciales para mantener la claridad en el mensaje principal del fragmento de la clase).\n",
      " La baja inflación está relacionada con una demanda débil. Cuando la demanda es escasa, las empresas intentan reducir costes mediante la disminución de salarios e incluso pueden destruir empleo. A veces, puede haber confusión sobre los temas de inflación y deflación, por lo que es importante aclarar que en este caso se está hablando únicamente de inflación.\n",
      " Control de inflación: Hay dos tipos principales, inflación por demanda y por costes. En el caso de una inflación de demanda, ocurre cuando la demanda de bienes y servicios excede la oferta, lo que aumenta los precios. Para controlar esto, se puede implementar una política fiscal contractiva, como subir impuestos, disminuyendo así el gasto de los consumidores y reduciendo la demanda.\n",
      "\n",
      "Por otro lado, en una situación de inflación por costes, los precios aumentan debido a un incremento en los costos de producción, como salarios o materias primas. Para abordar este problema, las empresas pueden reducir su fuerza laboral y así disminuir sus gastos, aunque esto pueda tener efectos negativos en el empleo y la economía en general.\n",
      " El profesor está pidiendo confirmación sobre si se ha comprendido el tema y señala que podría ser una de las cosas tratadas. Quiere avanzar pero no continuar con la misma pregunta o duda planteada anteriormente, ya que hay más personas en la clase que desearán utilizar el tiempo para preguntar. Luego, se asegura de que no haya más dudas sobre lo leído y está listo para continuar con el tema si no hay más preguntas.\n",
      "\n",
      "En resumen: el profesor quiere avanzar en el tema, confirmando que ya se ha comprendido lo anterior y sin seguir con las mismas preguntas o dudas planteadas previamente. También está atento a posibles nuevas preguntas o dudas sobre la materia tratada.\n",
      " El objetivo primordial de la política económica española actual es reducir la tasa de desempleo. En una rueda de prensa con aproximadamente 450 periodistas, tenemos que comunicar diversos objetivos económicos, incluyendo el mencionado anteriormente. Es fundamental no dejarnos ningún objetivo importante sin mencionar, ya que corremos el riesgo de ser objeto de burla y ridiculizados. Asegurémonos de repasar todos los puntos antes de concluir la rueda de prensa.\n",
      " Es evidente que hemos hablado sobre el equilibrio de la balanza de pagos, es decir, que las exportaciones deben ser similares a las importaciones. También discutimos la promoción de energías renovables y la subvención al sector agrario. A pesar de alguna objeción, propuse medidas como apoyar a los agricultores, aumentar las exportaciones, reducir las importaciones, incrementar el salario mínimo y eliminar el fraude fiscal. Sin duda, nos quedan temas pendientes. Por lo tanto, prometer estabilidad económica puede ser engañoso, ya que equivale a garantizar la felicidad, lo cual es imposible de cumplir.\n",
      " El orador desea proponer ideas y solicita sugerencias de los oyentes. Un asistente, Josep, sugiere aumentar la renta per cápita como una forma de enriquecer a las personas. Sin embargo, el orador cuestiona si aumentar la renta per cápita es la única forma de enriquecer a las personas, implicando que existen otras maneras de lograrlo.\n",
      "\n",
      "Notas: Se han eliminado repeticiones y se ha enfatizado el contenido relevante de la transcripción original para facilitar la comprensión del tema abordado en la conferencia.\n",
      " El objetivo consiste en aumentar el producto interior bruto (PIB) sin generar una desigualdad excesiva. En otras palabras, queremos lograr crecimiento económico mediante la producción de más bienes y servicios, lo que a su vez enriquecerá al país. Este es un objetivo muy relevante y probablemente seguro.\n",
      "\n",
      "(He eliminado las repeticiones, interacciones con los estudiantes y otros elementos no esenciales para mantener la claridad y concisión del mensaje).\n",
      " El profesor explica la importancia de analizar el tema de los impuestos, específicamente en relación a las ideas previas expresadas por otros estudiantes. En lugar de reducir los impuestos, el concepto principal que desea transmitir es equilibrarlos, proponiendo un sistema en el que quienes tienen más ingresos paguen más y quienes tienen menos, paguen menos. Afirma que la distribución equitativa de la renta es crucial para comprender este concepto.\n",
      "\n",
      "Notas: Se eliminaron las interacciones con los estudiantes, como las preguntas y comentarios individuales, así como también se retiraron repeticiones y divagaciones sin sentido.\n",
      " El tema a tratar es el aumento del flujo de crédito de los bancos a las pymes. Es un aspecto muy importante, ya que más crédito puede favorecer significativamente a estas empresas. Se ha sugerido también reducir la financiación de la iglesia y el ejército, pero hay que tener precaución con este asunto.\n",
      "\n",
      "(Nota: El texto original presentaba repeticiones y algunas interacciones con el público que he omitido para entregar un discurso más claro y conciso.)\n",
      " El tema del ejército no negaba su existencia, pero lo importante es abordar el asunto de la financiación de la Iglesia por parte del Estado español. Los fondos recibidos son insignificantes, por lo que no debemos caer en demagogia. Del mismo modo, la discusión sobre el ejército también puede ser demagógica, ya que España forma parte de una superestructura, la Unión Europea, y pertenecer a esta unión es una condición indispensable para estar en la OTAN, como parte de nuestra historia.\n",
      " El tema es la OTAN y los gastos que implica. Se sugiere que se trata de un \"kit\" que hay que adquirir para formar parte de la organización. También se plantea la cuestión de si deseamos pertenecer a la Unión Europea, ya que estar en la OTAN puede ser una condición previa. Por lo tanto, es importante tener precaución con estos asuntos.\n",
      " Hemos abordado temas interesantes, incluyendo la historia contada por Xavi sobre la inflación. Aunque al principio pensé que Xavi podría ser argentino debido a su profunda comprensión del impacto de las altas tasas de inflación, resulta que es de Canarias. Es relevante mencionar que Argentina experimentó inflaciones de hasta un 300%, Bolivia alcanzó una tasa del 4.800%, y Perú llegó a una tasa del 10.000%. Estas cifras ilustran las consecuencias negativas que pueden ocurrir como resultado de la inflación no controlada.\n",
      " Durante una época en Mozambique, se experimentaron inflaciones desmesuradas, llegando a alcanzar cifras trillónicas. Un ejemplo comparable es la hiperinflación de 4.800% que viví personalmente. En ese entonces, mientras caminaba por la calle, me topaba repentinamente con aumentos en los precios. Por ejemplo, vería un objeto que costaba 15 unidades monetarias y, al regresar tras quince o treinta minutos, el mismo artículo pasaría a costar 17 unidades.\n",
      " Un objetivo muy importante, especialmente si viviéramos en un país con una economía inestable, sería mantener la estabilidad de precios y evitar la inflación. En el caso del país al que se hace referencia en la transcripción, disfrutan de una baja tasa de inflación de solo 0,7% para este año, lo que significa que la economía está muy controlada y estable.\n",
      "\n",
      "Es interesante comparar esta situación con España, donde en el pasado se han experimentado inflaciones mucho más altas, llegando al 30%. Esto demuestra que mantener una inflación baja y estabilidad de precios es crucial para tener una economía saludable y estable.\n",
      " Un objetivo importante en nuestra conversación será abordar la estabilidad de precios. Además, en el contexto actual de globalización, es crucial considerar otro aspecto: la capacidad de una empresa para mantener su posición y valor frente a competidores globales. Un ejemplo notable es Nokia; a pesar de ser líder en su campo, fue adquirida por Microsoft a un precio mucho más bajo de lo que valía hace solo dos años. La pregunta que surge es: ¿cómo una empresa tan grande y dominante puede perder tanto valor en un período tan corto?\n",
      "\n",
      "Notas adicionales:\n",
      "- Se eliminaron las preguntas retóricas y las interacciones con los estudiantes, ya que el texto final pretende ser una versión clara y concisa del tema central de la conferencia.\n",
      "- La referencia a Microsoft como \"lo hundió\" y \"lo consiguió\" se cambió por un lenguaje más neutro para reflejar los hechos sin emitir un juicio de valor.\n",
      "- El texto original contenía repeticiones y pausas que fueron eliminadas en el texto final para una mejor legibilidad y claridad.\n",
      " La eficiencia de Nokia ha disminuido, lo que ha llevado a la compañía a incurrimir en cuantiosas pérdidas, ya que produce teléfonos de baja calidad. A pesar de que anteriormente Nokia era el líder mundial en la producción de teléfonos, de pronto experimentó un declive cuando dejó de fabricar dispositivos de alta calidad.\n",
      "\n",
      "Si bien es cierto que algunas personas podrían considerar adquirir un Nokia si se les regala, lo más probable es que no vayan a comprar uno intencionalmente, dada su baja calidad. Esto plantea la interrogante de cuál fue el motivo que llevó a Nokia a dejar de producir teléfonos de alta gama y, en consecuencia, a perder su posición de liderazgo en el mercado.\n",
      " La cuestión es que Nokia producía excelentes teléfonos, sin embargo, dejaron de ser competitivos y eficientes porque no adaptaron sus métodos a la evolución tecnológica. Los últimos modelos de Nokia son sobresalientes, pero funcionan con un programa extraño y poco conocido.\n",
      "\n",
      "Es esencial destacar que vivimos en un mundo en constante cambio y vital, donde la eficiencia es clave para el éxito. La eficiencia se puede definir como el máximo provecho o productividad que podemos obtener con los recursos disponibles. No obstante, en economía, el concepto de eficiencia es complejo y multifacético.\n",
      "\n",
      "En resumen, Nokia no pudo mantenerse a la vanguardia tecnológica y económica, lo que resultó en su declive como líder en la producción de teléfonos móviles. Por lo tanto, la adaptabilidad y evolución son cruciales para mantenerse competitivos y eficientes en un mundo globalizado y en constante cambio.\n",
      " No es fácil comprender completamente el concepto de eficiencia en una empresa, aunque puedo identificar si una empresa lo es o no. Un ejemplo claro de eficiencia lo encontramos en Apple y su producto, el iPad. Aunque repita la idea varias veces, quiero subrayar que la eficiencia es vital para una empresa.\n",
      "\n",
      "(Transcripción editada: eliminación de réplicas, preguntas retóricas y redundancias)\n",
      " La eficiencia de Nike se debe a su posición como líder en el mercado y a sus ganancias significativas. Cada empresa sigue su propia estrategia y, en el caso de Nike, no tener la exclusividad para vender en ciertos lugares resulta ser eficiente.\n",
      "(Nota: Se eliminaron las repeticiones, las preguntas personales y los comentarios fuera de tema para enfocarnos en la explicación sobre la eficiencia de Nike).\n",
      " La eficiencia no se basa únicamente en la obtención de grandes ganancias o ingresos, ni en ser la empresa líder en un determinado sector. Un ejemplo de ello es Nokia, que hace 15 años era altamente eficiente y hoy en día ya no lo es. En este sentido, es posible ser eficiente sin necesariamente poder demostrarlo mediante indicadores cuantitativos. (En español de España)\n",
      " Aunque al principio un negocio no pueda ser eficiente, eso no implica que nunca lo será. La eficiencia puede llegar cuando una empresa alcance una posición líder en su sector. No necesariamente tiene que ser la mejor para ser eficiente, pero claramente, ser el mejor ayuda a lograrlo.\n",
      "\n",
      "Un ejemplo de esto es WhatsApp. Al ofrecer su servicio de mensajería instantánea de forma gratuita, se posicionó como un producto eficiente y efectivo en un mercado global. Aunque no era el número uno en el envío de mensajes a nivel mundial al inicio, WhatsApp logró serlo gracias a su eficiencia.\n",
      "\n",
      "En resumen, la eficiencia no está directamente relacionada con el éxito inicial de un negocio, sino que puede desarrollarse y fortalecerse con el tiempo, especialmente si la empresa trabaja para mejorar y ofrecer un servicio de calidad a sus usuarios.\n",
      "\n",
      "*Nota: El orador no es un experto en eficiencia, así que no queda atrapado en lo que él diga.\n",
      " Ser eficiente es fundamental, ya que si no lo eres, puedes enfrentar dificultades en el mercado. Incluso si produces un producto de calidad, el mercado puede desinteresarse por él debido a diversas razones, como la falta de conocimiento sobre tu oferta. El mercado tenderá a reemplazarte si no eres eficiente en tus procesos y productos.\n",
      "\n",
      "(Nota: Eliminé las repeticiones, preguntas retóricas y los comentarios sin relación al tema principal para enfocarme en lo esencial de la transcripción.)\n",
      " La eficiencia es fundamental para un país, ya que si no eres eficiente y has desplazado al mercado, la situación se vuelve complicada. En cuanto a la eficiencia, me pregunto qué significa la fe en ser eficiente para ustedes. Independientemente de su interpretación, es algo que debemos lograr.\n",
      "Ahora, tratemos de pensar en cosas importantes, como por ejemplo, las energías renovables, tal como mencionó Alejandro el otro día.\n",
      " La eficiencia energética es un instrumento y no un objetivo principal, aunque sea importante. España se encuentra entre los primeros países con un alto coste energético. Nuestro consumo de energía es elevado, lo que representa un desafío, ya que el petróleo se está agotando. El pico de producción mundial de petróleo se alcanzó en 2005, y desde entonces, la producción ha disminuido. Por lo tanto, es crucial apostar por la eficiencia energética para mantenernos competitivos y reducir nuestra dependencia del petróleo.\n",
      " La era del petróleo está llegando a su fin. Es difícil de creer, pero será así. Todos ustedes vivirán en un mundo donde el petróleo ya no será la materia prima principal para producir bienes y servicios. Por lo tanto, es evidente que si queremos ser eficientes y no invertir en alternativas sostenibles, nos enfrentaremos a dificultades importantes.\n",
      "\n",
      "Hasta ahora, el crecimiento económico ha sido un objetivo primordial. Sin embargo, hoy en día se antepone a otro concepto: la sostenibilidad. El crecimiento sostenible implica que ya no deseamos crecer sin control, sino hacerlo de una manera respetuosa con el medio ambiente y las generaciones futuras.\n",
      " Los países que han alcanzado cierto bienestar ya no desean crecer de manera desmedida. Un ejemplo claro es Menorca, una isla donde la gente disfruta de una buena calidad de vida. Desde hace algunos años, en Menorca se ha implementado el PTI (Plan Territorial Insular), el cual prohibe la construcción. Esto se debe a que la isla ya se encuentra en buenas condiciones y no requiere más desarrollo.\n",
      "\n",
      "Existe un grupo ecologista muy poderoso en Menorca, conocido como GOP, el cual tiene influencia sobre cualquier decisión que tome el gobierno local. Esto se debe a que, de lo contrario, el GOP provocaría una gran controversia y protestas. Por otro lado, en países como Etiopía, la situación es diferente. La gente quiere tener las mismas comodidades que tenemos nosotros, como televisores, coches, y otras posesiones materiales.\n",
      " Los países o regiones que han alcanzado cierto bienestar económico ya no desean crecimiento por el simple hecho de crecer. Ahora se busca un crecimiento sostenible, el cual es más respetuoso con el medio ambiente y satisface las demandas del movimiento ecologista. La comodidad económica juega un papel importante en esta nueva visión de crecimiento. Las personas que gozan de cierto bienestar económico desean mantener y mejorar su calidad de vida, por lo que están dispuestos a invertir en aquellas áreas que mejoren su comodidad. Esto puede incluir inversiones en el sector agrario, aumento del PIB, distribución activa de la renta y mejora de las exportaciones.\n",
      "\n",
      "En España, el salario mínimo es un tema relevante en la discusión sobre crecimiento económico y comodidad. Actualmente, el salario mínimo en España es de 45 (posiblemente se refiere a 45 euros por hora o 45.000 euros al año, aunque no queda claro). La fijación del salario mínimo es una herramienta importante para la distribución equitativa de la riqueza y el logro de un crecimiento sostenible que beneficie a todos los miembros de la sociedad.\n",
      " Alguien de nuestro equipo nos informó que actualmente se realizan ventas de salario mínimo cada mes. Se desea aumentar esta cantidad, pero también debemos tener en cuenta el impacto en las pensiones de los adultos mayores. Hay que tener cuidado al tomar decisiones, ya que podríamos perjudicar a otros de alguna otra manera desconocida por el momento. En cuanto a la inflación, hablaremos sobre este tema más adelante. Por ahora, continuemos con el siguiente punto del temario.\n",
      " La conferencia de prensa se refiere a la disminución de impuestos como un medio para aumentar el consumo, ya que supone una mayor disponibilidad de dinero para las personas. Se menciona que estas medidas son instrumentos, al igual que el crédito, que persigue el objetivo de mejorar la eficiencia empresarial. En este sentido, se aborda la dificultad actual de las empresas para obtener financiación y su impacto en su funcionamiento.\n",
      "\n",
      "Además, se aclara que los objetivos expuestos no son los únicos y se destaca uno particularmente relevante en la situación española: la reducción de la deuda pública. Por lo tanto, el discurso pretende establecer una relación entre las políticas fiscales y el fortalecimiento económico, con un enfoque específico en la coyuntura nacional.\n",
      " El déficit público es otra área que debemos reducir, ya que, como sabéis, se cree que si no lo hacemos, sufriremos las consecuencias. Nadie quiere ser castigado, y el \"castigo\" en este contexto implica la retención de fondos. Hoy, representantes del Banco Central Europeo, la Comisión Europea, el gobierno alemán y el Fondo Monetario Internacional han llegado a Madrid para realizar una revisión de 15 días en el Banco de España. Durante este período, los bancos españoles tendrán que presentar sus estados financieros para demostrar su cumplimiento con las normas y garantías establecidas. Aunque sea el Fondo Monetario Internacional quien finalmente libere los fondos, el gobierno alemán es el principal decisor en este asunto, ya que ejerce una gran influencia sobre las decisiones financieras europeas.\n",
      " Estos objetivos que menciono se derivan de los propuestos por Kuznets y son comunes en la mayoría de los países del mundo. Un ejemplo podría ser Bulgaria, donde el objetivo principal puede ser eliminar la corrupción económica, dada su prevalencia en ese país. De manera similar, Rumanía también enfrenta un problema similar y suprimer objetivo es eliminar este flagelo para que su economía pueda funcionar adecuadamente.\n",
      " La frontera entre lo que es un instrumento y lo que es un objetivo no siempre está clara. A veces, algo que era un medio para alcanzar una meta puede convertirse en el objetivo en sí mismo, y viceversa. Este concepto se ilustra con la situación de Alemania y su influencia en Europa, representada por Ángela Merkel, quien tiene mucho poder y suele salir victoriosa en las elecciones.\n",
      "\n",
      "Un ejemplo notable de esto es el economista Paul Krugman, ganador del Premio Nobel, quien ejerce una gran influencia en su campo.\n",
      "\n",
      "(Nota: Se han eliminado repeticiones y comentarios off the record para mantener la claridad y concisión en las notas del lecture.)\n",
      " De hecho, la referencia que les doy es una valiosa fuente de información en economía. Busquen a Krugman y a Stiglitz, ambos premios Nobel que explican temas económicos de manera accesible para el público en general.\n",
      "\n",
      "Krugman sintetiza los objetivos de un país en tres aspectos clave: preocupación por el bienestar, productividad y distribución equitativa de la renta. Según él, al lograr estos tres puntos, se consigue el resto de metas. Por lo tanto, es crucial tener presentes estos tres aspectos y no enfocarse solamente en uno de ellos.\n",
      " La idea de que España necesita aumentar su productividad es una afirmación absurda. Nuestro país ha experimentado un incremento significativo en su productividad en los últimos años, no como resultado de esfuerzos para mejorar la eficiencia, sino más bien a través de despidos masivos. Esta información ha sido repetida en los medios de comunicación y por políticos en numerosas ocasiones, llegando a ser una especie de mantra: \"Es esencial aumentar la productividad de nuestro país\". Sin embargo, esta afirmación carece de fundamento y omite el hecho de que España ya ha logrado un aumento sustancial en su productividad como consecuencia de la reducción drástica de sus efectivos.\n",
      " El producto ha experimentado una pequeña caída, pero los recursos necesarios para obtener el mismo producto son actualmente mucho menores. La productividad en España ha aumentado considerablemente en los últimos años, sin embargo, no es algo deseable si este aumento se produce a costa de puestos de trabajo. Por lo tanto, debemos tener cuidado con las afirmaciones que oímos, ya que no siempre tienen sentido.\n",
      "\n",
      "Hay otra idea que a menudo se menciona y que me resulta interesante: la necesidad de invertir en sectores de alto valor añadido.\n",
      " El sector cementero en Cataluña es el que tiene el valor añadido más elevado. Sin embargo, la idea de invertir en cemento como una consecuencia lógica no es válida, ya que este producto se basa en materias primas básicas y su alto valor es generado durante el proceso de producción. A menudo, cuando se menciona el \"valor añadido\", existe una comprensión general del término; sin embargo, la forma en que se utiliza puede ser engañosa o incorrecta.\n",
      "\n",
      "Notas adicionales para el conferenciante: Durante la edición y limpieza del texto de la transcripción, he mantenido las ideas centrales y eliminado las repeticiones y conversaciones fuera del tema. Además, corregí algunos pequeños errores en la redacción original para mejorar la claridad y el flujo de los pensamientos.\n"
     ]
    }
   ],
   "source": [
    "import copy\n",
    "\n",
    "list_of_processed_chunks = []\n",
    "for unprocessed_chunk in list_of_unprocessed_chunks:\n",
    "    prompt = f\"\"\"\n",
    "    Take the following transcription of a lecture in Spanish, \n",
    "    remove all the repetitions, interactions with students, and other nonsensical speech,\n",
    "    and output only a well-written version of what is being explained. Write in Spanish.\n",
    "    ---Begin text ---\n",
    "    {unprocessed_chunk['text']}\n",
    "    ---End text ---\n",
    "    \"\"\"\n",
    "    \n",
    "    processed_chunk = copy.deepcopy(unprocessed_chunk)\n",
    "    try:\n",
    "        processed_chunk['text'] = ollama_generate(prompt, system=system)\n",
    "        print(processed_chunk['text'])  # Uncomment for debugging\n",
    "    except Exception as e:\n",
    "        print(f\"Error processing chunk: {e}\")\n",
    "        continue\n",
    "\n",
    "    list_of_processed_chunks.append(processed_chunk)\n",
    "    "
   ]
  },
  {
   "cell_type": "code",
   "execution_count": 48,
   "id": "5aca87e2-60b6-4411-9902-2894243d3992",
   "metadata": {
    "tags": []
   },
   "outputs": [],
   "source": [
    "import json\n",
    "\n",
    "# Assuming list_of_processed_chunks is your final data to be saved\n",
    "data_to_save = list_of_processed_chunks\n",
    "\n",
    "# Specify the filename\n",
    "filename = 'processed_chunks.json'\n",
    "\n",
    "# Writing JSON data\n",
    "with open(filename, 'w', encoding='utf-8') as file:\n",
    "    json.dump(data_to_save, file, ensure_ascii=False, indent=4)\n"
   ]
  },
  {
   "cell_type": "code",
   "execution_count": null,
   "id": "28ef2276-01f2-4b28-bc9e-20cc081db85a",
   "metadata": {},
   "outputs": [],
   "source": []
  }
 ],
 "metadata": {
  "kernelspec": {
   "display_name": "Python 3 (ipykernel)",
   "language": "python",
   "name": "python3"
  },
  "language_info": {
   "codemirror_mode": {
    "name": "ipython",
    "version": 3
   },
   "file_extension": ".py",
   "mimetype": "text/x-python",
   "name": "python",
   "nbconvert_exporter": "python",
   "pygments_lexer": "ipython3",
   "version": "3.11.5"
  }
 },
 "nbformat": 4,
 "nbformat_minor": 5
}
