{
 "cells": [
  {
   "cell_type": "markdown",
   "id": "58eae6ce-f511-440f-b76b-30b18fd2c6ec",
   "metadata": {},
   "source": [
    "# This notebook is to make some processing of the audios transcribed\n",
    "\n",
    "The transcriptions of lectures and conferences contain a lot of nonsensical speech.\n",
    "- Repetitions of words and fragments of phrases\n",
    "- Incomplete sentences, interactions with the public.\n",
    "\n",
    "All of these speech forms do not add meaning to the chunks and their embeddings.\n",
    "\n",
    "***The goal of this notebook is to process it a bit with GPT*** \n",
    "\n",
    "The input will be \n",
    "\n",
    ".json files with chunks "
   ]
  },
  {
   "cell_type": "markdown",
   "id": "4ac58578-abd4-4b35-ba34-310f39d6631c",
   "metadata": {},
   "source": [
    "# We will use ollama\n",
    "\n",
    "See (https://www.postman.com/postman-student-programs/workspace/ollama-api/documentation/21521806-f48dc31a-a9f1-4dad-9082-fd07f5cd2fda)\n",
    "\n",
    "We will have two api endpoints :\n",
    "- /api/generate -> for single prompt generation\n",
    "- /api/chat -> for chat conversations\n",
    "\n",
    "## Important!!! Check the models that DO have Chat \n",
    "\n",
    "- llama2 models offer chat\n",
    "- mistral and mixtral do not!\n"
   ]
  },
  {
   "cell_type": "markdown",
   "id": "9e8e329e-21aa-49c1-b87d-b5786fc99c69",
   "metadata": {},
   "source": [
    "# setup stuff\n"
   ]
  },
  {
   "cell_type": "code",
   "execution_count": 4,
   "id": "c298af80-1d6c-4fad-8a27-7456417fa37a",
   "metadata": {},
   "outputs": [],
   "source": [
    "import requests\n",
    "import json\n",
    "\n",
    "# Define the ollama URL\n",
    "ollama_url = \"http://localhost:11434\"\n",
    "ollama_generate_url = ollama_url+\"/api/generate\"\n",
    "ollama_chat_url = ollama_url+\"/api/chat\"\n",
    "# Choose your prefered model\n",
    "ollama_generate_model = \"mixtral\"\n",
    "ollama_chat_model = \"mixtral\"\n",
    "#ollama_model = \"llama2\"\n",
    "default_temperature = 0.7 # as suggested by Mistral API docs https://docs.mistral.ai/api/"
   ]
  },
  {
   "cell_type": "markdown",
   "id": "4eba634f-eaf0-423e-84c9-8da2450c1300",
   "metadata": {},
   "source": [
    "# Helper functions\n",
    "\n"
   ]
  },
  {
   "cell_type": "code",
   "execution_count": 11,
   "id": "3d8e519c-36c1-47fb-befa-0d7f6eec12c6",
   "metadata": {},
   "outputs": [],
   "source": [
    "# Helper functions  \n",
    "def ollama_chat(messages, temperature=default_temperature):\n",
    "    \n",
    "    data = {\n",
    "        'model': ollama_chat_model,\n",
    "        'messages': messages,   \n",
    "        'temperature': temperature,\n",
    "        'stream': False\n",
    "    }\n",
    "    \n",
    "    json_data=json.dumps(data)\n",
    "    \n",
    "    response = requests.post(ollama_chat_url, data=json_data, headers={\"Content-Type\": \"application/json\"})\n",
    "\n",
    "    if response.status_code == 200:\n",
    "        response_json = response.json()\n",
    "        actual_response = response_json[\"message\"] \n",
    "        return actual_response\n",
    "    else:\n",
    "        return f\"Request failed with status code {response.status_code}\"\n",
    "\n",
    "def ollama_generate(prompt, system=\"you are a helpfull assitant\", temperature=default_temperature):\n",
    "    \n",
    "    data = {\n",
    "        'model': ollama_generate_model,\n",
    "        'prompt': prompt,\n",
    "        'system': system,        \n",
    "        'temperature': temperature,\n",
    "        'stream': False\n",
    "    }\n",
    "    \n",
    "    json_data=json.dumps(data)\n",
    "    actual_response=\"error\"\n",
    "    \n",
    "    response = requests.post(ollama_generate_url, data=json_data, headers={\"Content-Type\": \"application/json\"})\n",
    "    if response.status_code == 200:\n",
    "        response_json = response.json()\n",
    "        actual_response = response_json[\"response\"] \n",
    "        return actual_response\n",
    "    else:\n",
    "        return f\"Request failed with status code {response.status_code}\"\n",
    "\n",
    "    "
   ]
  },
  {
   "cell_type": "markdown",
   "id": "40d63003-9f41-483d-8fd5-4fb3ad41af0e",
   "metadata": {},
   "source": [
    "# Sample usage of ollama_generate"
   ]
  },
  {
   "cell_type": "code",
   "execution_count": 3,
   "id": "18d727d1-24e7-4a65-9e1b-9750c2233ff2",
   "metadata": {},
   "outputs": [
    {
     "name": "stdout",
     "output_type": "stream",
     "text": [
      " Arr matey, ye be askin' a question as old as time itself. The meaning o' life, you say? Well, I ain't no philosopher, but I'll give it me best shot.\n",
      "\n",
      "To me, the meaning o' life be about findin' yer own path and makin' the most of what ye've got. It be about seekin' adventure, discoverin' new lands, and makin' memories with those ye hold dear.\n",
      "\n",
      "But at the end o' the day, the meaning o' life be different for every soul on this earth. So set sail on yer own journey, and discover what it means to you. After all, life be too short to spend it wonderin', so get out there and start livin', ye scurvy dog!\n"
     ]
    }
   ],
   "source": [
    "# Sample usage of ollama_generate\n",
    "\n",
    "prompt=\"what is the meaning of life?\"\n",
    "system=\"talk like a pirate\"\n",
    "response=ollama_generate(prompt,system=system)\n",
    "print(response)\n",
    "   "
   ]
  },
  {
   "cell_type": "markdown",
   "id": "8e207391-b42a-4b83-a5de-a4db18e157a1",
   "metadata": {},
   "source": [
    "# Sample usage of ollama_chat"
   ]
  },
  {
   "cell_type": "code",
   "execution_count": 10,
   "id": "e2371e64-a0dc-4482-9958-7a30fb2ad57c",
   "metadata": {},
   "outputs": [
    {
     "name": "stdout",
     "output_type": "stream",
     "text": [
      "{\"model\":\"mixtral\",\"created_at\":\"2024-01-15T16:56:36.450374Z\",\"message\":{\"role\":\"assistant\",\"content\":\" Dude, you're really going deep with that question! Like, you want to know the meaning of life, ya? Well, I reckon it's all about hanging ten on those gnarly waves of experience, feeling the rush of living in the present moment, and being stoked about the good vibes.\\n\\nYou see, brah, life ain't always about scoring the perfect barrel or landing that sick trick. Sometimes it's about wiping out, learning from our mistakes, and getting back up to ride again. It's about cherishing those moments with our bros and brahs, creating unforgettable memories, and sharing some aloha spirit.\\n\\nSo, I'd say the meaning of life is finding your own flow, staying true to yourself, and spreading good vibes all around. Just remember, when in doubt, paddle out! Catch you on the next swell, dude!\"},\"done\":true,\"total_duration\":5683339500,\"load_duration\":854833,\"prompt_eval_duration\":476231000,\"eval_count\":199,\"eval_duration\":5200992000}\n",
      "{'role': 'assistant', 'content': \" Dude, you're really going deep with that question! Like, you want to know the meaning of life, ya? Well, I reckon it's all about hanging ten on those gnarly waves of experience, feeling the rush of living in the present moment, and being stoked about the good vibes.\\n\\nYou see, brah, life ain't always about scoring the perfect barrel or landing that sick trick. Sometimes it's about wiping out, learning from our mistakes, and getting back up to ride again. It's about cherishing those moments with our bros and brahs, creating unforgettable memories, and sharing some aloha spirit.\\n\\nSo, I'd say the meaning of life is finding your own flow, staying true to yourself, and spreading good vibes all around. Just remember, when in doubt, paddle out! Catch you on the next swell, dude!\"}\n"
     ]
    }
   ],
   "source": [
    "# Sample usage of ollama_chat\n",
    "messages= [\n",
    "        {\"role\": \"system\", \"content\": \"talk like a surfer dude.\"},\n",
    "        {\"role\": \"user\", \"content\": \"What is the meaning of life.\"},\n",
    "##        {\"role\": \"assistant\", \"content\": \"possible responses in the context?\"},\n",
    "##        {\"role\": \"user\", \"content\": \"more stuff\"},\n",
    "]\n",
    "#print(json.dumps(messages,indent=4))\n",
    "\n",
    "response=ollama_chat(messages)\n",
    "\n",
    "print(response)\n",
    "#print(type(response))\n",
    "#show_response(response)    "
   ]
  },
  {
   "cell_type": "markdown",
   "id": "9122a00c-e631-494b-b5ec-01f102eacd89",
   "metadata": {},
   "source": [
    "# Loading Srt File\n",
    "\n"
   ]
  },
  {
   "cell_type": "code",
   "execution_count": 4,
   "id": "d891882b-c1aa-4715-8613-8e0d8b190dfa",
   "metadata": {
    "tags": []
   },
   "outputs": [],
   "source": [
    "json_file_url=\"http://192.168.1.44:8001/1_1_Planteando_objetivos_politica_economica.json\"\n",
    "\n"
   ]
  },
  {
   "cell_type": "code",
   "execution_count": 5,
   "id": "584033ef-b842-426e-be15-f23b93b6d826",
   "metadata": {},
   "outputs": [
    {
     "name": "stdout",
     "output_type": "stream",
     "text": [
      "['1\\n00:00:00,000 --> 00:00:59,820\\n¿Por qué la inflación y el pleno empleo están en conflicto? ¿Por qué? ¿Qué pensáis? ¿Por qué intentar controlar la inflación nos perjudica la plena ocupación? ¿Sería esto? Y al revés, ¿no? ¿Por qué favorecer la plena ocupación nos va a perjudicar la inflación? Esa es tu pregunta, ¿no? Venga, va, un minuto. A ver. Venga, va. ¿Quién nos dice algo? Vale. Arturo, te lo voy a pasar y os lo vais pasando, ¿vale? No os rompáis que te vale una pasta esto. Venga, Arturo. No, no, ya está, ya está. Porque si tenemos plena ocupación significa que, bueno, si estamos favoreciendo la plena ocupación, significa que no hay problema.', '2\\n00:00:59,820 --> 00:01:32,880\\nSignifica que estamos intentando que el mayor número de personas tengan trabajo y, por tanto, generen bienes y riquezas. Por tanto, estas bajarán de valor porque hay mucha más oferta de bienes y riquezas. Entonces, mucha más gente que te pueda hacer lo mismo, por tanto. Y, bueno, ¿qué hay que...? Habrá más... Habrá más pasta, ¿no? Sí, habrá más dinero en circulación. Por lo tanto, la gente querrá comprar más cosas, ¿no? Por lo tanto, la gente querrá comprar más cosas y habrá más dinero, por lo tanto, aumentará la inflación. ¿Ves? Habrá una tendencia a que suban los precios, ¿no? ¿Eh? ¿Eh? No, no, no.', '3\\n00:01:32,880 --> 00:02:11,220\\nNo, en conflicto es... La inflación no es algo deseable. El control de la inflación está en conflicto con la plena ocupación. El control, ¿vale? ¿Sí? Espera, espera. Pásale a un bebé. No, no, no es el turno, ¿eh? Sí, pásaselo, pásaselo. Tú querías decir algo también, ¿no? ¿Era esto o no? Sí, sí. Ah, era esto. Algo parecido. Me imagino que es equivalente. Iba a decir que una... ¿Qué es tu nombre? Yo me llamo Alejandro. Alejandro, ¿eh? Sí. Vale. Yo iba a decir que, bueno, una baja inflación o incluso una deflación estaba asociada a muy poca demanda.', '4\\n00:02:11,220 --> 00:02:43,780\\nY si había poca demanda, pues... Estamos hablando de inflación, no de deflación. Inflación. Bueno, pues una baja inflación está asociada a una baja demanda. Y si hay poca demanda, las empresas en un intento de abaratar costes bajan salarios e incluso destruyen empleo. No, no, no. Aquí te has llevado todo un lío, ¿eh? Porque él no habla de deflación. Su pregunta no tenía nada que ver con la deflación. Hablaba de la inflación, solo de la inflación. Entonces, tú tienes razón en lo que le estás diciendo, ¿eh? Pero él nos preguntaba otra cosa, ¿no? Pero de todas maneras...', '5\\n00:02:43,780 --> 00:03:20,120\\nEntonces, lo que tiene razón, lo que tiene razón, fíjate, si yo quiero controlar la inflación, es decir, si quiero, también depende de qué tipo de inflación, ¿vale? Bueno, da igual, las dos. Mira, las dos. Si yo quiero controlar la inflación, ¿qué se llama? De demanda. ¿Qué es que tú? Todo el mundo está comprando cosas como locos. ¿Qué voy a hacer? Por ejemplo, ¿eh? Voy a meter un mogollón de impuestos. ¿Vale? Entonces, la gente no va a comprar tanto. Pero si la gente no compra tanto, las empresas no la van a vender tanto. ¿Ves? Ya estamos fastidiándola, ¿no? Y si tengo una inflación que se llama de costes, que es que los costes son muy altos, lo que dice Alejandro, ¿no? Voy a abaratar costes, ¿vale? Pues voy a echar gente a la calle.', '6\\n00:03:20,120 --> 00:04:00,820\\n¿Entiendes? Podría ser, ¿no? Una de las cosas. ¿Vale? ¿Ok? Lo dejamos aquí, ¿eh? Si os parece. No sé si... No sé. Uno de vosotros quería participar, pero... Ah. Sí, pero no vamos a tirar del hilo sobre la misma pregunta. ¿Entiendes? Vamos a responderle la pregunta a él. Pero si a la hora, si te ocurre a otra, ¿sabes? No podemos. Me sabe mal, ¿eh? Pero no podemos. Te lo guardas por ahí y con que... Habrá más gente que lo tendrá que utilizar. ¿Vale? Sí. Estábamos... Bueno, hay alguna duda más sobre lo que habéis leído, ¿eh? ¿No? Ok.', '7\\n00:04:00,820 --> 00:04:41,900\\nPues si os acordáis, estábamos que teníamos una rueda de prensa, ¿no? 450 periodistas dentro de cinco minutos y teníamos que decirles varios objetivos de política económica, ¿no? Nosotros ya habíamos puesto algunos, ¿no? Pero nos faltan, seguramente nos faltan, ¿no? Porque si no, si les decimos esto, hacemos el ridículo de una forma exagerada, ¿no? Entonces, ahí los tendremos, ¿no? Y tengo que hacer algo más, pero no tengo muy claro el qué. Sí, sí, ya está bien. Vale. Entonces, ¿qué habíamos dicho? Habíamos dicho que uno muy importante en estos momentos de la economía española es reducir la tasa de paro.', '8\\n00:04:41,900 --> 00:05:25,280\\nEso es evidente, ¿no? Creo que es obvio para todos. Habíamos hablado del equilibrio de la banca de pagos, que era que no importásemos mucho más de lo que exportábamos, ¿no? Y entonces, habíamos hablado también de más energías renovables, subvencionar el sector agrario. Creo que alguien nos ha dicho que no. Yo he dicho, ¿no? Ayudar a los agricultores, más exportaciones, menos importaciones, que yo resumía con esto, aumentar el salario mínimo, eliminar el fraude fiscal, ¿no? Pero seguro que nos quedan cosas, estoy segurísimo, ¿no? Entonces... ¿Podemos prometer estabilidad económica? No, no, no. Prometer, tú puedes prometer lo que quieras, ¿no? Pero prometer estabilidad económica, acuérdate, es decir, que seamos felices, ¿no? Es lo mismo que no decir nada, ¿vale? No, no, no, no.', '9\\n00:05:25,280 --> 00:06:06,080\\nLo que quiero ahora es que me propongáis cosas, ¿no? Las tenéis, ¿no? Seguro, ¿eh? Va, venga. ¿Quién quiere? Hostia, espera, ¿eh? Vamos a intentar ir por el micro, ¿vale? Si no te importa, ¿eh? Pero de seguida arribaremos a tú. ¿Es que no tenías tú el micro o ya no lo tienes? Sí. Ya tendrías que conseguir pasar a él. Aumentar la renta... Dime tu nombre, dime tu nombre. Josep. Josep. Aumentar la renta per cápita. Aumentar la renta per cápita. Aumentar la renta per cápita. Es decir, aumentar... La gente gana más pasta, ¿no? ¿Sí? Bueno, veremos... Josep, que no es exactamente así, ¿eh? Que la gente sea más rica.', '10\\n00:06:06,080 --> 00:06:53,420\\nDilo así, ¿no? Si quieres... ¿Todo Dios quieres que sea más rico o no? ¿Eh? ¿Todos? No, no, a mí me parece bien, ¿eh? ¿Cómo lo podemos hacer esto? Para que todo Dios sea más rico en un país, ¿cómo lo podemos hacer, Josep? Pues se trata de aumentar el... el producto interior bruto sin crear una excesiva desigualdad. Vale, no, no, fíjate. No, un objetivo muy importante. Muy importante, ¿eh? Muy importante. Será... ¿Cómo le decimos esto? Hostia... Bueno, da igual, ¿eh? Crecimiento. ¿No? Queremos crecer, ¿no? Crecimiento del PIB, ¿vale? Producir más bienes y servicios, ¿no? Esto hará que seamos más ricos en nuestro país, ¿no? ¿Vale? Eso es un objetivo importante, ¿no? Seguramente, ¿no? Dime, dime.', '11\\n00:06:53,420 --> 00:07:37,260\\nNo, aquí. Eric, bueno, creo que es relacionado con lo que ha dicho Josep, que se ha bajado... ¿Bajar los impuestos? Bajar los impuestos. Sí. Vale, esto lo voy a poner aquí. Bajar. Mirad, impuestos a partir de ahora, una T mayúscula, ¿vale? Sergi, más que bajarlos sería... Más que bajarlo, equilibrarlo. ¿Equilibrarlos? ¿Cómo se equilibran los impuestos? Hombre, quien tiene más que pague más y quien tiene menos que pague menos. No puede ser que el más rico pague lo mismo que el más pobre de todos. A ver si te gusta más esto que te voy a decir, ¿eh? Distribución equitativa de la renta.', '12\\n00:07:37,260 --> 00:08:27,140\\n¿Hay que quedar bien esto? ¿Vale? Bueno, si lo pasamos a él, por favor. Mayor flujo de crédito de los bancos a las pymes. Ah, vale, a ver. Vale. Más crédito, vamos a decir así, ¿vale? Más crédito, ¿no? Muy importante, ¿no? Seguramente. Vale, va. Vale. ¿Algo más así que alguien diga? O sea, yo quiero decir... Ya tenemos que entrar, ¿eh? O sea, vienen ya los periodistas, ¿eh? Vale. Intentamos que... Bueno, dímelo así y yo lo repetiré. Cuidado. Cuidado, cuidado, cuidado, cuidado. Genial, ¿eh? Reducir la financiación de la iglesia y el ejército, dices, ¿no? Sí, sí, pero...', '13\\n00:08:27,140 --> 00:08:59,720\\nBueno, el ejército... Yo no... No te voy a negar que sí, ¿eh? Pero la iglesia... Mira, es esto, ¿eh? Lo que recibe la iglesia del Estado español es... Mira, de mi uña, la punta de la punta de la punta, ¿no? Entonces, ¿qué quiero decirte con esto? Que no caigamos en demagogias, ¿no? ¿Vale? Lo del ejército también es demagógico. ¿Por qué? ¿Por qué? Porque estamos en una estructura, una superestructura, ¿no? Que es la Unión Europea. Y la Unión Europea, el pertenecer a la Unión Europea, es condición sine qua non pertenecer a nuestra historia, que se llama OTAN.', '14\\n00:08:59,720 --> 00:09:30,840\\nO NATO, ¿no? Y estos tíos te dicen... Tienes que gastar tanta pasta. Entonces, es un kit, ¿me entiendes? Es que es un problema, ¿no? Yo estoy de acuerdo contigo, ¿eh? Yo no hice la mil, yo soy objetor y todo lo que tú quieras, ¿no? Y cuando veo a un militar me pongo nervioso, ¿no? Pero, pero, pero, es un kit. Entonces, claro, el kit es... ¿Tú quieres pertenecer a la Unión Europea o no? No. Ah, vale, entonces... Pero si quieres pertenecer a la Unión Europea, no te queda más remedio. ¿Entiendes? Entonces, claro, tenemos que tener cuidado con estas cosas, ¿no? Vale, eh, mirad.', '15\\n00:09:30,840 --> 00:10:09,880\\nBien, eh, hemos hecho cosas muy interesantes, ¿eh? Pero, por ejemplo, hemos estado hablando... Ya no me acuerdo de tu nombre, ¿eh? Xavi, ¿no? Xavi nos ha contado una historia interesante, ¿no? Nos ha hablado de inflación, ¿no? ¿Tú, tú, tu origen es argentino o no? No, ¿eh? De Canarias. Ah, de Canarias. Bueno, claro. Vale, pero me parecía, ¿no? Que podía ser, ¿no? No, no, ¿por qué lo digo? Porque, mirad, en Argentina, en Argentina tuvieron inflaciones del 300%. Y eso es un mal rollo, que te cagas, ¿vale? En Bolivia tuvieron inflaciones del 4.800%. 4.800%. En Perú llegaron a tener una inflación del 10.000%.', '16\\n00:10:09,880 --> 00:10:39,440\\nEn Mozambique, tenéis un artículo por ahí colgado, de Mozambique, que han tenido inflaciones del trillones, no sé cuántos por ciento. ¿Os imagináis esto? ¿Vale? Yo he vivido la del 4.800, ¿no? El 4.800 significaba que yo iba andando por la calle, ¿no? Y de golpe veía, pues eso, ¿no? Veía esto. Y decía, oh, posición Galaxy 3, qué guapo. ¿Qué vale, no? Y tú me decías, 15, ¿no? Y yo te decía, a ver si me hacen un café, tal, ¿no? Volvía al cabo de un rato, ¿no? De un cuarto de hora, media hora, ¿no? Y ya valía 17.', '17\\n00:10:39,440 --> 00:11:13,120\\nAhora imaginaos vivir en un país así, terrible, ¿no? Terrible, ¿no? Por lo tanto, un objetivo muy importante, seguro, ¿no? Lo que pasa es que nosotros la tenemos, ¿no? Tenemos estabilidad de precios, la tenemos, ¿vale? La inflación para este año será... Nada, ¿vale? De 0,7%. De 0,7%, que es muy peligroso, ¿eh? Porque eso es casi una deflación, eso es un mal... Pero bueno, veis que está muy controlado, ¿no? Por lo tanto, claro, ahora no es un objetivo en España. Pero es un objetivo muy importante. Pensad que en España hemos tenido inflaciones del 30%, ¿no? Y eso no es deseable.', '18\\n00:11:13,120 --> 00:12:16,580\\nLuego lo hablamos, ¿eh? Pero un objetivo importante sería lo que se llama la estabilidad... ...de precios. ¿Vale? Estabilidad de precios. Y otro que no hemos dicho, pero que es muy importante, yo creo, ¿no? Y es que, claro, con esta historia que tenemos ahora, ¿no? De la globalización y todas esas películas... ¿Os suena...? Seguro que os suena, ¿eh? Una empresa que se llama Nokia. ¿Y qué le ha pasado a Nokia? ¡Oh! La ha hundido Microsoft, que es distinto, ¿no? ¿Vale? Microsoft puso allí a un espía, ¿no? A mandar, no sé cómo lo consiguió, pero lo consiguió, ¿no? Ha conseguido hundir a Microsoft y que Microsoft la compre mucho más barata de lo que valía hace dos años, ¿no? ¿Vale? Pero la ha hundido, ¿no? La pregunta que os voy a hacer es la siguiente.', '19\\n00:12:16,580 --> 00:12:58,500\\n¿Qué pasa? Claro, Nokia dejó de ser eficiente, ¿no? Seguramente, ¿no? Porque ha tenido unas pérdidas bestiales, ¿no? Claro, es que hace una mierda de teléfonos Nokia, ¿no? ¿Sí? No, pero ¿por qué? ¿Tú tienes un Nokia? No. Ni loco lo tendrías, ¿no? Bueno, quizás sí se te lo regalan, ¿no? Pero ¿tú te irías ahora a comprar un Nokia? Sí, pero ¿tú te lo comprarías o no? Vale. Vale. Entonces, mi pregunta es, claro, ¿qué pasa? Nokia era el líder mundial, ¿no? De teléfonos. Y de golpe, ¿qué pasó? ¿Qué pasó con estos tipos, no? Claro, dejaron de hacer buenos teléfonos.', '20\\n00:12:58,500 --> 00:13:57,580\\nLa verdad es que no. Hicieron muy buenos teléfonos, ¿no? Pero dejaron de ser eficientes. Dejaron de ser competitivos. Claro. ¿Por qué? ¿Por el precio? No, porque evolucionó todo, pero ellos no evolucionaron sus modos. También evolucionaron. Los últimos Nokia son la rehostia. Lo que pasa es que van con un programa raro y tal, no sé qué. Hostia. Por lo tanto, ¿qué quiero decir con esto? Fijaros, ¿eh? Que el mundo que vivimos es vital, vital, pero vital, ¿eh? Ser eficientes. ¿No? Si no somos eficientes, ¡oh, terrible! Y, claro, ¿qué significa eficiencia? ¿No? Todos sabríamos definir, ¿no? Lo que es eficiente, ¿no? ¿No? El máximo, ¿cómo es decirlo? El máximo provecho o el máximo producto de los recursos que tengamos, ¿no? Eso sería ser la máxima eficiencia posible, ¿no? Ya, ya, pero fijaros que en economía el concepto de eficiencia es muy complejo.', '21\\n00:13:58,420 --> 00:19:05,840\\nNo es fácil, ¿no? Yo siempre pienso en ese concepto. Sé cuando una empresa es eficiente y cuando no lo es, pero el secreto de por qué lo es me cuesta mucho entenderlo. Me cuesta, ¿no? Os voy a poner ejemplos para que me entendáis, ¿no? Yo qué sé. Eso es un iPad, ¿no? Hoy casi, ¿no? No, no, volvía a un iPad. Apple, ¿no? Apple es eficiente. Y tan, ¿no? Y tan, ¿no? Y tan, ¿no? Y tan, ¿no? Y tan, ¿no? Y tan, ¿no? Y tan, ¿no? Y tan, ¿no? Y tan, ¿no? Y tan, ¿no? Y tan, ¿no? Y tan, ¿no? Y tan, ¿no? Y tan, ¿no? Y tan, ¿no? Y tan, ¿no? Y tan, ¿no? Y tan, ¿no? Y tan, ¿no? Y tan, ¿no? Y tan, ¿no? Y tan, ¿no? Y tan, ¿no? Y tan, ¿no? Y tan, ¿no? Y tan, ¿no? Y tan, ¿no? Y tan, ¿no? Y tan, ¿no? Y tan, ¿no? Y tan, Y tan, ¿no? Y tan, ¿no? Y tan, ¿no? Y tan, ¿no? Y tan, ¿no? Y tan, ¿no? Y tan, ¿no? Y tan, ¿no? Y tan, ¿no? Y tan, ¿no? Y tan, ¿no? Y tan, ¿no? Y tan, ¿no? Y tan, ¿no? Y tan, ¿no? Y tan, ¿no? Y tan, ¿no? Y tan, ¿no? Y tan, ¿no? Y tan, ¿no? Y tan, ¿no? Y tan, ¿no? Y tan, ¿no? Y tan, ¿no? Y tan, ¿no? Y tan, ¿no? Y tan, ¿no? Y tan, ¿no? Y tan, ¿no? Y tan, ¿no? Y tan, ¿no? Y tan, ¿no? Y tan, ¿no? Y tan, Y tan, ¿no? Y tan, ¿no? Y tan, ¿no? Y tan, ¿no? Y tan, ¿no? Lo que sí sé es que es vital ser eficiente.', '22\\n00:19:05,840 --> 00:19:45,860\\nEs vital. Dime. ¿Tenemos el micro por ahí? Piénsaselo ahí, por favor. Pero la... Por ejemplo, Nike no tiene la exclusividad que tienen... ¿Tu nombre? ¿Tu nombre? Kilian. Las Nike no tienen la exclusividad que tienen Expreso de ir a comprarle a este sitio y tal. Solo es el dinero... No, no. Cada uno juega a... Con su estrategia. Vale. Sí, sí, claro. Sí, sí. En el caso de Nike, ¿por qué es eficiente? Porque mira, ganan una pasta, ¿no? Y son los primeros en el mercado. No, son el number one, ¿no? Esto es ser eficiente, ¿no? ¿O no? No, no, no, no, no.', '23\\n00:19:45,860 --> 00:20:18,160\\nYo no digo eso, ¿eh? Yo no digo eso. ¿La eficiencia en qué te basas? ¿En eficiencia? ¿En que son...? En que ganan mogollón de dinero, ¿no? Ganan mogollón de dinero o tienen muchos ingresos y que son la primera empresa mundial en calzado deportivo. En eso me baso, ¿no? Eso es ser eficiente. Claro. Nokia era eficiente, ¿no? Hace 15 años era super eficiente, ¿no? Ya ha dejado de serlo, ¿no? A ese nivel me refiero. Yo no intento vendrán re, te lo juro, ¿eh? Pero bueno. Marc, según lo que nos estás diciendo, yo puedo estar eficiente, pero no puedo ser eficiente.', '24\\n00:20:18,160 --> 00:20:52,280\\nSi comienzo un negocio, desde el comienzo, no puedo ser eficiente. Cuando sea el líder mundial, entonces estaré eficiente. No, no. Porque seré el mejor. No, no, no. ¿WhatsApp va a ser eficiente o no? ¿WhatsApp? No conozco la historia. No, yo tampoco, pero el WhatsApp gratis y va a ser eficiente que el producto. Sí. Sí. ¿Era el número uno a nivel mundial de enviarse mensajes en el mundo? No. Por lo tanto, olvídate, ¿vale? Yo no soy un experto en eficiencia. No soy ningún experto en eficiencia. ¿Vale? Olvídate. Así una historia. No os quedéis con lo que yo digo.', '25\\n00:20:52,280 --> 00:21:16,560\\nTú sabes lo que es ser eficiente, ¿no? Más o menos, ¿no? No, no es un entorno económico. Vale, yo tampoco. Yo tampoco. ¿Por qué no? ¿Por qué no? ¿Por qué no? ¿Por qué no? ¿Por qué no? Por eso te he dado todas esas dudas. Por eso te he dado todas esas dudas. ¿Entiendes? Lo que sí sé es que si no eres eficiente, mal rollo. El mercado te va a desplazar. Por más producto de calidad que tú hagas, da igual. El mercado no le interesará para nada tu producto. Porque no lo conoce por 80.000 posibles razones.', '26\\n00:21:16,560 --> 00:21:58,800\\n¿Vale? Pero lo que sí sé es que si tú no eres eficiente, que has desplazado el mercado. Ya está. Por lo tanto, por lo tanto, esto es básico. Para un país. ¿No? ¿Eh? ¿Eh? ¿Eh? ¿Eh? Bueno. No soy eficiente, ¿lo ves? ¿Sí o no? ¿Y a vos qué es la fe por ser eficiente? Yo qué sé. Yo qué sé. Al que sé es que lo hemos de ser, ¿no? Vale. Entonces, vamos a intentar pensar en cosas, ¿no? Por ejemplo, por ejemplo, ¿eh? Mira, yo no sé quién de vosotros decía el otro día de las energías renovables, ¿no? ¿No? Alejandro.', '27\\n00:21:58,800 --> 00:22:30,340\\nVale. Alejandro, sí, ¿eh? Pero claro, ¿es un objetivo principal? No. Es un instrumento. ¿Para qué? Para bastantes cosas. Una, posiblemente para empezar a ser eficientes, pero nuestro costo energético es muy alto en España, ¿no? Somos, ¿no? De los primeros del ranking mundial, ¿no? De lo que nos cuesta la energía en España, ¿no? Por lo tanto, ostras, como no apostemos por esto, ¿no? Dejaremos de ser eficientes, ¿no? ¿Por qué? Porque, mira, el petróleo se acaba. Es que se acaba, ¿eh? El pic de producción del petróleo, 2005. ¿Por qué? ¿Por qué? ¿Por qué? ¿Por qué? Desde el 2005 ya no somos capaces de producir tanto petróleo.', '28\\n00:22:30,340 --> 00:23:12,400\\nEsto se acaba. No nos lo creemos, pero se acaba. Vosotros viviréis en un mundo donde el petróleo ya dejará de ser el elemento principal para producir cosas, ¿no? Por lo tanto, es evidente que si queremos ser eficientes y no apostamos en esto, mal rollo, ¿no? Mal rollo, absoluto, ¿no? Y luego hay otro tema, ¿no? Yo he hablado de un objetivo muy importante que era el crecimiento económico. Sí, pero, ¿o no? O sea, ahora el crecimiento... Lo anteponemos a otro rollo que se llama la sostenibilidad, ¿sabéis? Esto del crecimiento sostenible, ¿no? Que es que ya no queremos crecer como locos, ¿no? ¿Por qué? Porque hay cosas que no deseamos.', '29\\n00:23:12,400 --> 00:23:57,020\\nLos países que han conseguido un cierto bienestar ya no quieren crecer de forma loca perdida, ¿no? Os pongo un ejemplo. Menorca, ¿vale? Menorca es una isla donde la gente vive bien. Entonces, Menorca desde hace unos años tiene una cosa que se llama el PTI, prohibido a construir. ¿Vale? ¿Por qué? Porque ya están bien. Entonces, hay un grupo ecologista superpotente que se llama GOP. Cualquier decisión que quiere tomar el gobierno de Menorca, primero se lo consulta el GOP. Porque si no, le van a montar un cirio absolutamente bestial, ¿no? Claro, en Etiopía eso no existe. Los etíopes quieren tener la misma tele que tenemos nosotros, quieren tener un coche, quieren tener no sé qué, tienen que tener no sé qué.', '30\\n00:23:57,020 --> 00:25:01,300\\nPero los países o las zonas que han llegado a un cierto bienestar económico, lo del crecimiento, crecer por crecer ya no lo quieren. Simplemente es eso, crecer por crecer ya no lo quieren. ¿Vale? Entonces, lo del crecimiento ahora le cambiamos el nombre y llamamos eso, de crecimiento sostenible, ¿no? Porque es crecimiento versus, digamos, el movimiento ecologista o algo así, ¿no? Comodidad. ¿Eh? Comodidad. ¿Qué es la comodidad económica que necesitas? Bueno, que tú ya tienes un cierto bienestar y, por lo tanto, si huele mal, ya no te apetece que huela mal, ¿no? Sí, sí. Por lo tanto, fijaros que eso también lo podríamos asociar al crecimiento económico, ¿no? Lo del agrario, pues posiblemente también, ¿no? Creciendo del PIB, distribución activa de la renta, ¿no? Lo de las exportaciones, ¿lo teníamos? El salario mínimo, distribución es, ¿no? El salario mínimo en España, ¿cuánto es? ¿Cuánto es el salario mínimo en España? 45, com...', '31\\n00:25:01,300 --> 00:25:34,280\\nAlguien me lo dijo, un compañero nuestro, ¿eh? Tú me lo dijiste, ¿no? Ahí se... Coma 30, ¿no? ¿Vale? Al mes, ¿no? Bueno, pues esto lo queremos aumentar, ¿no? ¿Vale? Pero quizás también las pensiones de los vejecitos, ¿no? ¿Vale? Bueno, tienes que tener cuidado, ¿no? Si yo hago ventas de salario mínimo, pero castigo a la otra gente por otra manera, yo qué sé, ¿entiendes? Yo... Yo... Yo... Yo... Es complejo, es complejo, es complejo. ¿Cómo está la inflación y tal? Es que ya no... Tranquilo, la inflación vamos a hablar dentro de un rato, no te preocupes. Ahora estamos...', '32\\n00:25:34,280 --> 00:26:14,960\\nAcuérdate, tenemos la conferencia de prensa. Ahora simplemente estamos enumerando esto y luego vamos a discutir de todo esto. ¿Vale? ¿Sí? Lo de bajar impuestos, pues posiblemente es para que la gente tenga más dinero, para que aumente el consumo, yo qué sé, ¿no? Pero veis que es un instrumento y lo del crédito igual, ¿no? Queremos que las empresas sean más eficientes, ¿no? Por lo tanto, ahora las empresas tienen problemas, ¿no? De conseguir... Eh... Crédito, ¿no? Por lo tanto, les cuesta vivir, ¿no? Estos objetivos que os he puesto aquí no son los únicos que hay, es evidente, ¿no? ¿Vale? Podríamos poner muchos más, ¿no? Por ejemplo, en estos momentos en España hay un objetivo muy importante que es reducir la deuda pública.', '33\\n00:26:14,960 --> 00:27:13,120\\nY reducir una otra cosa que le llamamos el déficit público, ¿no? ¿Por qué? Porque, mirad, Dios a Merkel ha dicho que esto, si no lo hacemos, nos va a castigar. Entonces, claro, no queremos que nos castiguen. Si nos castiguen, lo tenemos que hacer. Castigar no es que no aflojan pasta, ¿no? Entonces, hoy, hoy, han llegado los hombres de negro, ¿lo sabéis esto o no? Hoy han llegado, ¿vale? Ya han ido todos a Madrid, ¿no? Y van a estar, creo que son 15 días, reunidos en el Banco de España y los bancos españoles van a tener que ir todos allí a explicarles sus cuentas y tal, tal, tal, tal, tal, para ver si lo están haciendo bien o no, ¿no? Los hombres de negro vienen del Banco Central Europeo de la Comisión Europea, del gobierno alemán, que dices, ¿y estos qué pintan aquí? Pues también, del gobierno alemán, porque son los que mandan, de verdad son los que mandan, por lo tanto, ¿no? Han dejado de hacer tonterías, ¿no? Y han decidido decir, bueno, aunque soy yo el que afloja la pasta, yo voy a decir cosas, ¿no? No, el Fondo Monetario Internacional.', '34\\n00:27:13,120 --> 00:27:45,820\\nPues estos objetivos que os digo aquí son los que enumeró un tipo que se llama Kuznets. ¿Por qué se enumeran estos? Porque, mirad, son factor común de la mayoría de países, de los países del mundo, simplemente por eso, por nada más. ¿Vale? Pero, yo qué sé, por ejemplo, posiblemente hay un país que se llama Bulgaria, que su objetivo principal es eliminar la corrupción económica. ¿Por qué? Porque tiene una corrupción muy bestia. Y sin esto no hay manera de funcionar, ¿no? Y a Rumanía le pasa exactamente igual, ¿no? Entonces, es vital para ellos eliminar esta historia.', '35\\n00:27:45,820 --> 00:28:18,660\\nPorque si no, Diosa Merkel también los va a castigar, ¿no? Claro, Diosa Merkel tiene mucho... Bueno, ahora va a volver a ganar, ¿eh? Pero tiene mucho poder esta señora, ¿no? O Alemania tiene mucho poder, ¿no? Lo mismo, ¿eh? La frontera entre lo que es instrumento y lo que es objetivo no está clara. ¿Vale? No está clara. Porque a veces lo que era un instrumento se convierte en un objetivo, y lo que era un objetivo era un instrumento, ¿no? Pero, bueno, básicamente serían estos, ¿no? Pero fijaos si no está clara que hay un tipo que se llama Krugman, que es un premio Nobel, ¿eh? Súper potente.', '36\\n00:28:18,660 --> 00:28:59,800\\nDe hecho, es una referencia, ¿no? O sea, si tenéis que leer cosas, os apetece leer cosas de economía, buscad el Krugman, buscad otro tipo que se llama Stiglitz, ¿vale? Son premios Nobel, pero además son tíos que hablan para la gente de la calle, ¿no? Y está muy bien lo que dicen, ¿no? Entonces, Krugman reduce estos objetivos y dice, bueno, bueno, bueno, sí, pero mira, sí, un país busca la preocupación junto con la productividad y la distribución equitativa de la renta, los tres juntos, ¿eh? Consigue el resto. Por lo tanto, si perseguimos esos tres, ya vale, ¿no? Cuidado con perseguir solo uno.', '37\\n00:28:59,800 --> 00:29:48,420\\nPor entonces, la fastidias, ¿eh? Os pongo un ejemplo, ¿no? Seguro que habéis oído por la tele, 28.000 veces, uy, aquí ha pasado algo, no, no ha pasado nada, no, no ha pasado nada, vale. Seguro que habéis oído por la tele, 25.000 veces, a empresarios y a políticos, decir que es súper importante aumentar la productividad de nuestro país. ¿Lo habéis oído esto alguna vez o no? Hemos de ser más productivos. ¿Lo habéis oído? Vale. Esto es una tontería absoluta. Absoluta. España ha aumentado su productividad en los últimos años de una forma extraordinaria. ¿Cómo? Despediendo a un mogollón de gente.', '38\\n00:29:48,420 --> 00:30:29,100\\n¿Vale? El producto ha caído un poquito, pero los recursos para conseguir el mismo producto ahora son muy inferiores. ¿Vale? ¿Vale? ¿Vale? ¿Vale? ¿Vale? ¿Vale? La productividad en España, seguramente somos los países en Europa que más ha aumentado en los últimos años. Pero claro, eso no es deseable. ¿No? Si ha aumentado la productividad y además he aumentado la ocupación en España, eso sí que es deseable. Pero si ha aumentado la productividad cargándome los puestos de trabajo, menuda tontería. ¿Lo veis? Por lo tanto, cuidado cuando oímos cosas, ¿no? Porque no tiene mucho sentido. Pero la gente dice cosas, ¿no? Otras cosas que dice la gente que a mí me divierte, ¿no? Por ejemplo, tenemos que invertir en sectores de alto valor añadido.', '39\\n00:30:29,100 --> 00:30:54,520\\n¿Lo habéis oído esto alguna vez? Vemos que el sector que tiene más alto valor añadido en Cataluña es el cemento. Por lo tanto, lo que teníamos que hacer todos era invertir en cemento, ¿no? ¿Veis que es absurdo esto? ¿Vale? Porque claro, el cemento parte de cosas muy básicas y consigues un producto que tiene un alto valor. Eso tiene un valor añadido bestial. Pero es absurdo. Entonces, claro, ¿qué ocurre? Que todos entendemos cuando nos dicen el valor añadido, pero está mal dicho. Está mal dicho.']\n"
     ]
    }
   ],
   "source": [
    "import requests\n",
    "import json\n",
    "\n",
    "\n",
    "\n",
    "try:\n",
    "    response = requests.get(json_file_url)\n",
    "    response.raise_for_status()  # Check for any HTTP errors\n",
    "\n",
    "    json_data = response.text  # Get the JSON content from the response\n",
    "\n",
    "    # Parse the JSON data into a Python dictionary\n",
    "    data_dict = json.loads(json_data)\n",
    "\n",
    "    # Now you can work with the data_dict as needed\n",
    "    print(type(data_dict))\n",
    "    print(data_dict)\n",
    "\n",
    "except requests.exceptions.RequestException as e:\n",
    "    print(f\"An error occurred: {e}\")\n",
    "except json.JSONDecodeError as e:\n",
    "    print(f\"Error decoding JSON: {e}\")"
   ]
  },
  {
   "cell_type": "code",
   "execution_count": null,
   "id": "0838bb19-f58a-41ab-8ff6-9ac9550978eb",
   "metadata": {},
   "outputs": [],
   "source": []
  }
 ],
 "metadata": {
  "kernelspec": {
   "display_name": "Python 3 (ipykernel)",
   "language": "python",
   "name": "python3"
  },
  "language_info": {
   "codemirror_mode": {
    "name": "ipython",
    "version": 3
   },
   "file_extension": ".py",
   "mimetype": "text/x-python",
   "name": "python",
   "nbconvert_exporter": "python",
   "pygments_lexer": "ipython3",
   "version": "3.11.5"
  }
 },
 "nbformat": 4,
 "nbformat_minor": 5
}
