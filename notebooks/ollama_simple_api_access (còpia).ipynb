{
 "cells": [
  {
   "cell_type": "markdown",
   "id": "58eae6ce-f511-440f-b76b-30b18fd2c6ec",
   "metadata": {},
   "source": [
    "# This notebook is to make some processing of the audios transcribed\n",
    "\n",
    "The transcriptions of lectures and conferences contain a lot of nonsensical speech.\n",
    "- Repetitions of words and fragments of phrases\n",
    "- Incomplete sentences, interactions with the public.\n",
    "\n",
    "All of these speech forms do not add meaning to the chunks and their embeddings.\n",
    "\n",
    "***The goal of this notebook is to process it a bit with GPT*** \n",
    "\n",
    "The input will be \n",
    "\n",
    ".json files with chunks "
   ]
  },
  {
   "cell_type": "markdown",
   "id": "4ac58578-abd4-4b35-ba34-310f39d6631c",
   "metadata": {},
   "source": [
    "# We will use ollama\n",
    "\n",
    "See (https://www.postman.com/postman-student-programs/workspace/ollama-api/documentation/21521806-f48dc31a-a9f1-4dad-9082-fd07f5cd2fda)\n",
    "\n",
    "We will have two api endpoints :\n",
    "- /api/generate -> for single prompt generation\n",
    "- /api/chat -> for chat conversations\n",
    "\n",
    "## Important!!! Check the models that DO have Chat \n",
    "\n",
    "- llama2 models offer chat\n",
    "- mistral and mixtral do not!\n"
   ]
  },
  {
   "cell_type": "markdown",
   "id": "9e8e329e-21aa-49c1-b87d-b5786fc99c69",
   "metadata": {},
   "source": [
    "# setup stuff\n"
   ]
  },
  {
   "cell_type": "code",
   "execution_count": 4,
   "id": "c298af80-1d6c-4fad-8a27-7456417fa37a",
   "metadata": {},
   "outputs": [],
   "source": [
    "import requests\n",
    "import json\n",
    "\n",
    "# Define the ollama URL\n",
    "ollama_url = \"http://localhost:11434\"\n",
    "ollama_generate_url = ollama_url+\"/api/generate\"\n",
    "ollama_chat_url = ollama_url+\"/api/chat\"\n",
    "# Choose your prefered model\n",
    "ollama_generate_model = \"mixtral\"\n",
    "ollama_chat_model = \"mixtral\"\n",
    "#ollama_model = \"llama2\"\n",
    "default_temperature = 0.7 # as suggested by Mistral API docs https://docs.mistral.ai/api/"
   ]
  },
  {
   "cell_type": "markdown",
   "id": "4eba634f-eaf0-423e-84c9-8da2450c1300",
   "metadata": {},
   "source": [
    "# Helper functions\n",
    "\n"
   ]
  },
  {
   "cell_type": "code",
   "execution_count": 11,
   "id": "3d8e519c-36c1-47fb-befa-0d7f6eec12c6",
   "metadata": {},
   "outputs": [],
   "source": [
    "# Helper functions  \n",
    "def ollama_chat(messages, temperature=default_temperature):\n",
    "    \n",
    "    data = {\n",
    "        'model': ollama_chat_model,\n",
    "        'messages': messages,   \n",
    "        'temperature': temperature,\n",
    "        'stream': False\n",
    "    }\n",
    "    \n",
    "    json_data=json.dumps(data)\n",
    "    \n",
    "    response = requests.post(ollama_chat_url, data=json_data, headers={\"Content-Type\": \"application/json\"})\n",
    "\n",
    "    if response.status_code == 200:\n",
    "        response_json = response.json()\n",
    "        actual_response = response_json[\"message\"] \n",
    "        return actual_response\n",
    "    else:\n",
    "        return f\"Request failed with status code {response.status_code}\"\n",
    "\n",
    "def ollama_generate(prompt, system=\"you are a helpfull assitant\", temperature=default_temperature):\n",
    "    \n",
    "    data = {\n",
    "        'model': ollama_generate_model,\n",
    "        'prompt': prompt,\n",
    "        'system': system,        \n",
    "        'temperature': temperature,\n",
    "        'stream': False\n",
    "    }\n",
    "    \n",
    "    json_data=json.dumps(data)\n",
    "    actual_response=\"error\"\n",
    "    \n",
    "    response = requests.post(ollama_generate_url, data=json_data, headers={\"Content-Type\": \"application/json\"})\n",
    "    if response.status_code == 200:\n",
    "        response_json = response.json()\n",
    "        actual_response = response_json[\"response\"] \n",
    "        return actual_response\n",
    "    else:\n",
    "        return f\"Request failed with status code {response.status_code}\"\n",
    "\n",
    "    "
   ]
  },
  {
   "cell_type": "markdown",
   "id": "40d63003-9f41-483d-8fd5-4fb3ad41af0e",
   "metadata": {},
   "source": [
    "# Sample usage of ollama_generate"
   ]
  },
  {
   "cell_type": "code",
   "execution_count": 3,
   "id": "18d727d1-24e7-4a65-9e1b-9750c2233ff2",
   "metadata": {},
   "outputs": [
    {
     "name": "stdout",
     "output_type": "stream",
     "text": [
      " Arr matey, ye be askin' a question as old as time itself. The meaning o' life, you say? Well, I ain't no philosopher, but I'll give it me best shot.\n",
      "\n",
      "To me, the meaning o' life be about findin' yer own path and makin' the most of what ye've got. It be about seekin' adventure, discoverin' new lands, and makin' memories with those ye hold dear.\n",
      "\n",
      "But at the end o' the day, the meaning o' life be different for every soul on this earth. So set sail on yer own journey, and discover what it means to you. After all, life be too short to spend it wonderin', so get out there and start livin', ye scurvy dog!\n"
     ]
    }
   ],
   "source": [
    "# Sample usage of ollama_generate\n",
    "\n",
    "prompt=\"what is the meaning of life?\"\n",
    "system=\"talk like a pirate\"\n",
    "response=ollama_generate(prompt,system=system)\n",
    "print(response)\n",
    "   "
   ]
  },
  {
   "cell_type": "markdown",
   "id": "8e207391-b42a-4b83-a5de-a4db18e157a1",
   "metadata": {},
   "source": [
    "# Sample usage of ollama_chat"
   ]
  },
  {
   "cell_type": "code",
   "execution_count": 10,
   "id": "e2371e64-a0dc-4482-9958-7a30fb2ad57c",
   "metadata": {},
   "outputs": [
    {
     "name": "stdout",
     "output_type": "stream",
     "text": [
      "{\"model\":\"mixtral\",\"created_at\":\"2024-01-15T16:56:36.450374Z\",\"message\":{\"role\":\"assistant\",\"content\":\" Dude, you're really going deep with that question! Like, you want to know the meaning of life, ya? Well, I reckon it's all about hanging ten on those gnarly waves of experience, feeling the rush of living in the present moment, and being stoked about the good vibes.\\n\\nYou see, brah, life ain't always about scoring the perfect barrel or landing that sick trick. Sometimes it's about wiping out, learning from our mistakes, and getting back up to ride again. It's about cherishing those moments with our bros and brahs, creating unforgettable memories, and sharing some aloha spirit.\\n\\nSo, I'd say the meaning of life is finding your own flow, staying true to yourself, and spreading good vibes all around. Just remember, when in doubt, paddle out! Catch you on the next swell, dude!\"},\"done\":true,\"total_duration\":5683339500,\"load_duration\":854833,\"prompt_eval_duration\":476231000,\"eval_count\":199,\"eval_duration\":5200992000}\n",
      "{'role': 'assistant', 'content': \" Dude, you're really going deep with that question! Like, you want to know the meaning of life, ya? Well, I reckon it's all about hanging ten on those gnarly waves of experience, feeling the rush of living in the present moment, and being stoked about the good vibes.\\n\\nYou see, brah, life ain't always about scoring the perfect barrel or landing that sick trick. Sometimes it's about wiping out, learning from our mistakes, and getting back up to ride again. It's about cherishing those moments with our bros and brahs, creating unforgettable memories, and sharing some aloha spirit.\\n\\nSo, I'd say the meaning of life is finding your own flow, staying true to yourself, and spreading good vibes all around. Just remember, when in doubt, paddle out! Catch you on the next swell, dude!\"}\n"
     ]
    }
   ],
   "source": [
    "# Sample usage of ollama_chat\n",
    "messages= [\n",
    "        {\"role\": \"system\", \"content\": \"talk like a surfer dude.\"},\n",
    "        {\"role\": \"user\", \"content\": \"What is the meaning of life.\"},\n",
    "##        {\"role\": \"assistant\", \"content\": \"possible responses in the context?\"},\n",
    "##        {\"role\": \"user\", \"content\": \"more stuff\"},\n",
    "]\n",
    "#print(json.dumps(messages,indent=4))\n",
    "\n",
    "response=ollama_chat(messages)\n",
    "\n",
    "print(response)\n",
    "#print(type(response))\n",
    "#show_response(response)    "
   ]
  },
  {
   "cell_type": "code",
   "execution_count": null,
   "id": "f3de9ecb-f59e-478b-8c91-d2ed640b4556",
   "metadata": {},
   "outputs": [],
   "source": []
  },
  {
   "cell_type": "code",
   "execution_count": null,
   "id": "584033ef-b842-426e-be15-f23b93b6d826",
   "metadata": {},
   "outputs": [],
   "source": []
  }
 ],
 "metadata": {
  "kernelspec": {
   "display_name": "Python 3 (ipykernel)",
   "language": "python",
   "name": "python3"
  },
  "language_info": {
   "codemirror_mode": {
    "name": "ipython",
    "version": 3
   },
   "file_extension": ".py",
   "mimetype": "text/x-python",
   "name": "python",
   "nbconvert_exporter": "python",
   "pygments_lexer": "ipython3",
   "version": "3.11.7"
  }
 },
 "nbformat": 4,
 "nbformat_minor": 5
}
